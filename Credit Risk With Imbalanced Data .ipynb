{
 "cells": [
  {
   "cell_type": "code",
   "execution_count": 1,
   "metadata": {},
   "outputs": [],
   "source": [
    "import pandas as pd\n",
    "import numpy as np\n",
    "import seaborn as sns\n",
    "import matplotlib.pyplot as plt"
   ]
  },
  {
   "cell_type": "markdown",
   "metadata": {},
   "source": [
    "Loading the Data"
   ]
  },
  {
   "cell_type": "code",
   "execution_count": 2,
   "metadata": {},
   "outputs": [
    {
     "data": {
      "text/html": [
       "<div>\n",
       "<style scoped>\n",
       "    .dataframe tbody tr th:only-of-type {\n",
       "        vertical-align: middle;\n",
       "    }\n",
       "\n",
       "    .dataframe tbody tr th {\n",
       "        vertical-align: top;\n",
       "    }\n",
       "\n",
       "    .dataframe thead th {\n",
       "        text-align: right;\n",
       "    }\n",
       "</style>\n",
       "<table border=\"1\" class=\"dataframe\">\n",
       "  <thead>\n",
       "    <tr style=\"text-align: right;\">\n",
       "      <th></th>\n",
       "      <th>Time</th>\n",
       "      <th>V1</th>\n",
       "      <th>V2</th>\n",
       "      <th>V3</th>\n",
       "      <th>V4</th>\n",
       "      <th>V5</th>\n",
       "      <th>V6</th>\n",
       "      <th>V7</th>\n",
       "      <th>V8</th>\n",
       "      <th>V9</th>\n",
       "      <th>...</th>\n",
       "      <th>V21</th>\n",
       "      <th>V22</th>\n",
       "      <th>V23</th>\n",
       "      <th>V24</th>\n",
       "      <th>V25</th>\n",
       "      <th>V26</th>\n",
       "      <th>V27</th>\n",
       "      <th>V28</th>\n",
       "      <th>Amount</th>\n",
       "      <th>Class</th>\n",
       "    </tr>\n",
       "  </thead>\n",
       "  <tbody>\n",
       "    <tr>\n",
       "      <th>0</th>\n",
       "      <td>0.0</td>\n",
       "      <td>-1.359807</td>\n",
       "      <td>-0.072781</td>\n",
       "      <td>2.536347</td>\n",
       "      <td>1.378155</td>\n",
       "      <td>-0.338321</td>\n",
       "      <td>0.462388</td>\n",
       "      <td>0.239599</td>\n",
       "      <td>0.098698</td>\n",
       "      <td>0.363787</td>\n",
       "      <td>...</td>\n",
       "      <td>-0.018307</td>\n",
       "      <td>0.277838</td>\n",
       "      <td>-0.110474</td>\n",
       "      <td>0.066928</td>\n",
       "      <td>0.128539</td>\n",
       "      <td>-0.189115</td>\n",
       "      <td>0.133558</td>\n",
       "      <td>-0.021053</td>\n",
       "      <td>149.62</td>\n",
       "      <td>0</td>\n",
       "    </tr>\n",
       "    <tr>\n",
       "      <th>1</th>\n",
       "      <td>0.0</td>\n",
       "      <td>1.191857</td>\n",
       "      <td>0.266151</td>\n",
       "      <td>0.166480</td>\n",
       "      <td>0.448154</td>\n",
       "      <td>0.060018</td>\n",
       "      <td>-0.082361</td>\n",
       "      <td>-0.078803</td>\n",
       "      <td>0.085102</td>\n",
       "      <td>-0.255425</td>\n",
       "      <td>...</td>\n",
       "      <td>-0.225775</td>\n",
       "      <td>-0.638672</td>\n",
       "      <td>0.101288</td>\n",
       "      <td>-0.339846</td>\n",
       "      <td>0.167170</td>\n",
       "      <td>0.125895</td>\n",
       "      <td>-0.008983</td>\n",
       "      <td>0.014724</td>\n",
       "      <td>2.69</td>\n",
       "      <td>0</td>\n",
       "    </tr>\n",
       "    <tr>\n",
       "      <th>2</th>\n",
       "      <td>1.0</td>\n",
       "      <td>-1.358354</td>\n",
       "      <td>-1.340163</td>\n",
       "      <td>1.773209</td>\n",
       "      <td>0.379780</td>\n",
       "      <td>-0.503198</td>\n",
       "      <td>1.800499</td>\n",
       "      <td>0.791461</td>\n",
       "      <td>0.247676</td>\n",
       "      <td>-1.514654</td>\n",
       "      <td>...</td>\n",
       "      <td>0.247998</td>\n",
       "      <td>0.771679</td>\n",
       "      <td>0.909412</td>\n",
       "      <td>-0.689281</td>\n",
       "      <td>-0.327642</td>\n",
       "      <td>-0.139097</td>\n",
       "      <td>-0.055353</td>\n",
       "      <td>-0.059752</td>\n",
       "      <td>378.66</td>\n",
       "      <td>0</td>\n",
       "    </tr>\n",
       "    <tr>\n",
       "      <th>3</th>\n",
       "      <td>1.0</td>\n",
       "      <td>-0.966272</td>\n",
       "      <td>-0.185226</td>\n",
       "      <td>1.792993</td>\n",
       "      <td>-0.863291</td>\n",
       "      <td>-0.010309</td>\n",
       "      <td>1.247203</td>\n",
       "      <td>0.237609</td>\n",
       "      <td>0.377436</td>\n",
       "      <td>-1.387024</td>\n",
       "      <td>...</td>\n",
       "      <td>-0.108300</td>\n",
       "      <td>0.005274</td>\n",
       "      <td>-0.190321</td>\n",
       "      <td>-1.175575</td>\n",
       "      <td>0.647376</td>\n",
       "      <td>-0.221929</td>\n",
       "      <td>0.062723</td>\n",
       "      <td>0.061458</td>\n",
       "      <td>123.50</td>\n",
       "      <td>0</td>\n",
       "    </tr>\n",
       "    <tr>\n",
       "      <th>4</th>\n",
       "      <td>2.0</td>\n",
       "      <td>-1.158233</td>\n",
       "      <td>0.877737</td>\n",
       "      <td>1.548718</td>\n",
       "      <td>0.403034</td>\n",
       "      <td>-0.407193</td>\n",
       "      <td>0.095921</td>\n",
       "      <td>0.592941</td>\n",
       "      <td>-0.270533</td>\n",
       "      <td>0.817739</td>\n",
       "      <td>...</td>\n",
       "      <td>-0.009431</td>\n",
       "      <td>0.798278</td>\n",
       "      <td>-0.137458</td>\n",
       "      <td>0.141267</td>\n",
       "      <td>-0.206010</td>\n",
       "      <td>0.502292</td>\n",
       "      <td>0.219422</td>\n",
       "      <td>0.215153</td>\n",
       "      <td>69.99</td>\n",
       "      <td>0</td>\n",
       "    </tr>\n",
       "  </tbody>\n",
       "</table>\n",
       "<p>5 rows × 31 columns</p>\n",
       "</div>"
      ],
      "text/plain": [
       "   Time        V1        V2        V3        V4        V5        V6        V7  \\\n",
       "0   0.0 -1.359807 -0.072781  2.536347  1.378155 -0.338321  0.462388  0.239599   \n",
       "1   0.0  1.191857  0.266151  0.166480  0.448154  0.060018 -0.082361 -0.078803   \n",
       "2   1.0 -1.358354 -1.340163  1.773209  0.379780 -0.503198  1.800499  0.791461   \n",
       "3   1.0 -0.966272 -0.185226  1.792993 -0.863291 -0.010309  1.247203  0.237609   \n",
       "4   2.0 -1.158233  0.877737  1.548718  0.403034 -0.407193  0.095921  0.592941   \n",
       "\n",
       "         V8        V9  ...       V21       V22       V23       V24       V25  \\\n",
       "0  0.098698  0.363787  ... -0.018307  0.277838 -0.110474  0.066928  0.128539   \n",
       "1  0.085102 -0.255425  ... -0.225775 -0.638672  0.101288 -0.339846  0.167170   \n",
       "2  0.247676 -1.514654  ...  0.247998  0.771679  0.909412 -0.689281 -0.327642   \n",
       "3  0.377436 -1.387024  ... -0.108300  0.005274 -0.190321 -1.175575  0.647376   \n",
       "4 -0.270533  0.817739  ... -0.009431  0.798278 -0.137458  0.141267 -0.206010   \n",
       "\n",
       "        V26       V27       V28  Amount  Class  \n",
       "0 -0.189115  0.133558 -0.021053  149.62      0  \n",
       "1  0.125895 -0.008983  0.014724    2.69      0  \n",
       "2 -0.139097 -0.055353 -0.059752  378.66      0  \n",
       "3 -0.221929  0.062723  0.061458  123.50      0  \n",
       "4  0.502292  0.219422  0.215153   69.99      0  \n",
       "\n",
       "[5 rows x 31 columns]"
      ]
     },
     "execution_count": 2,
     "metadata": {},
     "output_type": "execute_result"
    }
   ],
   "source": [
    "data = pd.read_csv('C:/Users/Lenovo/Downloads/archive/creditcard.csv')\n",
    "data.head()"
   ]
  },
  {
   "cell_type": "markdown",
   "metadata": {},
   "source": [
    "# Data Preprocessing\n",
    "Dropping the Time Cloumn"
   ]
  },
  {
   "cell_type": "code",
   "execution_count": 3,
   "metadata": {},
   "outputs": [],
   "source": [
    "data = data.drop(\"Time\", axis=1)"
   ]
  },
  {
   "cell_type": "markdown",
   "metadata": {},
   "source": [
    "Cheking for any missing values"
   ]
  },
  {
   "cell_type": "code",
   "execution_count": 4,
   "metadata": {},
   "outputs": [
    {
     "data": {
      "text/plain": [
       "False"
      ]
     },
     "execution_count": 4,
     "metadata": {},
     "output_type": "execute_result"
    }
   ],
   "source": [
    "data.isnull().values.any()"
   ]
  },
  {
   "cell_type": "code",
   "execution_count": 5,
   "metadata": {},
   "outputs": [
    {
     "data": {
      "text/html": [
       "<div>\n",
       "<style scoped>\n",
       "    .dataframe tbody tr th:only-of-type {\n",
       "        vertical-align: middle;\n",
       "    }\n",
       "\n",
       "    .dataframe tbody tr th {\n",
       "        vertical-align: top;\n",
       "    }\n",
       "\n",
       "    .dataframe thead th {\n",
       "        text-align: right;\n",
       "    }\n",
       "</style>\n",
       "<table border=\"1\" class=\"dataframe\">\n",
       "  <thead>\n",
       "    <tr style=\"text-align: right;\">\n",
       "      <th></th>\n",
       "      <th>V1</th>\n",
       "      <th>V2</th>\n",
       "      <th>V3</th>\n",
       "      <th>V4</th>\n",
       "      <th>V5</th>\n",
       "      <th>V6</th>\n",
       "      <th>V7</th>\n",
       "      <th>V8</th>\n",
       "      <th>V9</th>\n",
       "      <th>V10</th>\n",
       "      <th>...</th>\n",
       "      <th>V21</th>\n",
       "      <th>V22</th>\n",
       "      <th>V23</th>\n",
       "      <th>V24</th>\n",
       "      <th>V25</th>\n",
       "      <th>V26</th>\n",
       "      <th>V27</th>\n",
       "      <th>V28</th>\n",
       "      <th>Amount</th>\n",
       "      <th>Class</th>\n",
       "    </tr>\n",
       "  </thead>\n",
       "  <tbody>\n",
       "    <tr>\n",
       "      <th>0</th>\n",
       "      <td>-1.359807</td>\n",
       "      <td>-0.072781</td>\n",
       "      <td>2.536347</td>\n",
       "      <td>1.378155</td>\n",
       "      <td>-0.338321</td>\n",
       "      <td>0.462388</td>\n",
       "      <td>0.239599</td>\n",
       "      <td>0.098698</td>\n",
       "      <td>0.363787</td>\n",
       "      <td>0.090794</td>\n",
       "      <td>...</td>\n",
       "      <td>-0.018307</td>\n",
       "      <td>0.277838</td>\n",
       "      <td>-0.110474</td>\n",
       "      <td>0.066928</td>\n",
       "      <td>0.128539</td>\n",
       "      <td>-0.189115</td>\n",
       "      <td>0.133558</td>\n",
       "      <td>-0.021053</td>\n",
       "      <td>149.62</td>\n",
       "      <td>0</td>\n",
       "    </tr>\n",
       "    <tr>\n",
       "      <th>1</th>\n",
       "      <td>1.191857</td>\n",
       "      <td>0.266151</td>\n",
       "      <td>0.166480</td>\n",
       "      <td>0.448154</td>\n",
       "      <td>0.060018</td>\n",
       "      <td>-0.082361</td>\n",
       "      <td>-0.078803</td>\n",
       "      <td>0.085102</td>\n",
       "      <td>-0.255425</td>\n",
       "      <td>-0.166974</td>\n",
       "      <td>...</td>\n",
       "      <td>-0.225775</td>\n",
       "      <td>-0.638672</td>\n",
       "      <td>0.101288</td>\n",
       "      <td>-0.339846</td>\n",
       "      <td>0.167170</td>\n",
       "      <td>0.125895</td>\n",
       "      <td>-0.008983</td>\n",
       "      <td>0.014724</td>\n",
       "      <td>2.69</td>\n",
       "      <td>0</td>\n",
       "    </tr>\n",
       "    <tr>\n",
       "      <th>2</th>\n",
       "      <td>-1.358354</td>\n",
       "      <td>-1.340163</td>\n",
       "      <td>1.773209</td>\n",
       "      <td>0.379780</td>\n",
       "      <td>-0.503198</td>\n",
       "      <td>1.800499</td>\n",
       "      <td>0.791461</td>\n",
       "      <td>0.247676</td>\n",
       "      <td>-1.514654</td>\n",
       "      <td>0.207643</td>\n",
       "      <td>...</td>\n",
       "      <td>0.247998</td>\n",
       "      <td>0.771679</td>\n",
       "      <td>0.909412</td>\n",
       "      <td>-0.689281</td>\n",
       "      <td>-0.327642</td>\n",
       "      <td>-0.139097</td>\n",
       "      <td>-0.055353</td>\n",
       "      <td>-0.059752</td>\n",
       "      <td>378.66</td>\n",
       "      <td>0</td>\n",
       "    </tr>\n",
       "    <tr>\n",
       "      <th>3</th>\n",
       "      <td>-0.966272</td>\n",
       "      <td>-0.185226</td>\n",
       "      <td>1.792993</td>\n",
       "      <td>-0.863291</td>\n",
       "      <td>-0.010309</td>\n",
       "      <td>1.247203</td>\n",
       "      <td>0.237609</td>\n",
       "      <td>0.377436</td>\n",
       "      <td>-1.387024</td>\n",
       "      <td>-0.054952</td>\n",
       "      <td>...</td>\n",
       "      <td>-0.108300</td>\n",
       "      <td>0.005274</td>\n",
       "      <td>-0.190321</td>\n",
       "      <td>-1.175575</td>\n",
       "      <td>0.647376</td>\n",
       "      <td>-0.221929</td>\n",
       "      <td>0.062723</td>\n",
       "      <td>0.061458</td>\n",
       "      <td>123.50</td>\n",
       "      <td>0</td>\n",
       "    </tr>\n",
       "    <tr>\n",
       "      <th>4</th>\n",
       "      <td>-1.158233</td>\n",
       "      <td>0.877737</td>\n",
       "      <td>1.548718</td>\n",
       "      <td>0.403034</td>\n",
       "      <td>-0.407193</td>\n",
       "      <td>0.095921</td>\n",
       "      <td>0.592941</td>\n",
       "      <td>-0.270533</td>\n",
       "      <td>0.817739</td>\n",
       "      <td>0.753074</td>\n",
       "      <td>...</td>\n",
       "      <td>-0.009431</td>\n",
       "      <td>0.798278</td>\n",
       "      <td>-0.137458</td>\n",
       "      <td>0.141267</td>\n",
       "      <td>-0.206010</td>\n",
       "      <td>0.502292</td>\n",
       "      <td>0.219422</td>\n",
       "      <td>0.215153</td>\n",
       "      <td>69.99</td>\n",
       "      <td>0</td>\n",
       "    </tr>\n",
       "  </tbody>\n",
       "</table>\n",
       "<p>5 rows × 30 columns</p>\n",
       "</div>"
      ],
      "text/plain": [
       "         V1        V2        V3        V4        V5        V6        V7  \\\n",
       "0 -1.359807 -0.072781  2.536347  1.378155 -0.338321  0.462388  0.239599   \n",
       "1  1.191857  0.266151  0.166480  0.448154  0.060018 -0.082361 -0.078803   \n",
       "2 -1.358354 -1.340163  1.773209  0.379780 -0.503198  1.800499  0.791461   \n",
       "3 -0.966272 -0.185226  1.792993 -0.863291 -0.010309  1.247203  0.237609   \n",
       "4 -1.158233  0.877737  1.548718  0.403034 -0.407193  0.095921  0.592941   \n",
       "\n",
       "         V8        V9       V10  ...       V21       V22       V23       V24  \\\n",
       "0  0.098698  0.363787  0.090794  ... -0.018307  0.277838 -0.110474  0.066928   \n",
       "1  0.085102 -0.255425 -0.166974  ... -0.225775 -0.638672  0.101288 -0.339846   \n",
       "2  0.247676 -1.514654  0.207643  ...  0.247998  0.771679  0.909412 -0.689281   \n",
       "3  0.377436 -1.387024 -0.054952  ... -0.108300  0.005274 -0.190321 -1.175575   \n",
       "4 -0.270533  0.817739  0.753074  ... -0.009431  0.798278 -0.137458  0.141267   \n",
       "\n",
       "        V25       V26       V27       V28  Amount  Class  \n",
       "0  0.128539 -0.189115  0.133558 -0.021053  149.62      0  \n",
       "1  0.167170  0.125895 -0.008983  0.014724    2.69      0  \n",
       "2 -0.327642 -0.139097 -0.055353 -0.059752  378.66      0  \n",
       "3  0.647376 -0.221929  0.062723  0.061458  123.50      0  \n",
       "4 -0.206010  0.502292  0.219422  0.215153   69.99      0  \n",
       "\n",
       "[5 rows x 30 columns]"
      ]
     },
     "execution_count": 5,
     "metadata": {},
     "output_type": "execute_result"
    }
   ],
   "source": [
    "data.head(5)"
   ]
  },
  {
   "cell_type": "markdown",
   "metadata": {},
   "source": [
    "we are trying to predict the Credit risk baased on various variables, here the Class variable represents the value 1 in case of fraud and 0 otherwise."
   ]
  },
  {
   "cell_type": "code",
   "execution_count": 6,
   "metadata": {},
   "outputs": [
    {
     "data": {
      "image/png": "[encoded data removed]",
      "text/plain": [
       "<Figure size 432x288 with 1 Axes>"
      ]
     },
     "metadata": {
      "needs_background": "light"
     },
     "output_type": "display_data"
    }
   ],
   "source": [
    "sns.countplot(x=\"Class\", data=data)\n",
    "plt.show()"
   ]
  },
  {
   "cell_type": "markdown",
   "metadata": {},
   "source": [
    "As you can see that there is huge data imbalance in the dependent variable 'Class', we try to downsample the dependent variables"
   ]
  },
  {
   "cell_type": "code",
   "execution_count": 7,
   "metadata": {},
   "outputs": [],
   "source": [
    "import imblearn\n",
    "from imblearn.under_sampling import RandomUnderSampler \n",
    "from imblearn.over_sampling import RandomOverSampler"
   ]
  },
  {
   "cell_type": "code",
   "execution_count": 8,
   "metadata": {},
   "outputs": [],
   "source": [
    "under_sampler = RandomUnderSampler(sampling_strategy = .50)"
   ]
  },
  {
   "cell_type": "code",
   "execution_count": 9,
   "metadata": {},
   "outputs": [],
   "source": [
    "from sklearn.model_selection import train_test_split\n",
    "X = data.iloc[:, :-1]\n",
    "Y = data.iloc[:, -1]"
   ]
  },
  {
   "cell_type": "code",
   "execution_count": 10,
   "metadata": {},
   "outputs": [
    {
     "data": {
      "text/html": [
       "<div>\n",
       "<style scoped>\n",
       "    .dataframe tbody tr th:only-of-type {\n",
       "        vertical-align: middle;\n",
       "    }\n",
       "\n",
       "    .dataframe tbody tr th {\n",
       "        vertical-align: top;\n",
       "    }\n",
       "\n",
       "    .dataframe thead th {\n",
       "        text-align: right;\n",
       "    }\n",
       "</style>\n",
       "<table border=\"1\" class=\"dataframe\">\n",
       "  <thead>\n",
       "    <tr style=\"text-align: right;\">\n",
       "      <th></th>\n",
       "      <th>V1</th>\n",
       "      <th>V2</th>\n",
       "      <th>V3</th>\n",
       "      <th>V4</th>\n",
       "      <th>V5</th>\n",
       "      <th>V6</th>\n",
       "      <th>V7</th>\n",
       "      <th>V8</th>\n",
       "      <th>V9</th>\n",
       "      <th>V10</th>\n",
       "      <th>...</th>\n",
       "      <th>V20</th>\n",
       "      <th>V21</th>\n",
       "      <th>V22</th>\n",
       "      <th>V23</th>\n",
       "      <th>V24</th>\n",
       "      <th>V25</th>\n",
       "      <th>V26</th>\n",
       "      <th>V27</th>\n",
       "      <th>V28</th>\n",
       "      <th>Amount</th>\n",
       "    </tr>\n",
       "  </thead>\n",
       "  <tbody>\n",
       "    <tr>\n",
       "      <th>0</th>\n",
       "      <td>-1.359807</td>\n",
       "      <td>-0.072781</td>\n",
       "      <td>2.536347</td>\n",
       "      <td>1.378155</td>\n",
       "      <td>-0.338321</td>\n",
       "      <td>0.462388</td>\n",
       "      <td>0.239599</td>\n",
       "      <td>0.098698</td>\n",
       "      <td>0.363787</td>\n",
       "      <td>0.090794</td>\n",
       "      <td>...</td>\n",
       "      <td>0.251412</td>\n",
       "      <td>-0.018307</td>\n",
       "      <td>0.277838</td>\n",
       "      <td>-0.110474</td>\n",
       "      <td>0.066928</td>\n",
       "      <td>0.128539</td>\n",
       "      <td>-0.189115</td>\n",
       "      <td>0.133558</td>\n",
       "      <td>-0.021053</td>\n",
       "      <td>149.62</td>\n",
       "    </tr>\n",
       "    <tr>\n",
       "      <th>1</th>\n",
       "      <td>1.191857</td>\n",
       "      <td>0.266151</td>\n",
       "      <td>0.166480</td>\n",
       "      <td>0.448154</td>\n",
       "      <td>0.060018</td>\n",
       "      <td>-0.082361</td>\n",
       "      <td>-0.078803</td>\n",
       "      <td>0.085102</td>\n",
       "      <td>-0.255425</td>\n",
       "      <td>-0.166974</td>\n",
       "      <td>...</td>\n",
       "      <td>-0.069083</td>\n",
       "      <td>-0.225775</td>\n",
       "      <td>-0.638672</td>\n",
       "      <td>0.101288</td>\n",
       "      <td>-0.339846</td>\n",
       "      <td>0.167170</td>\n",
       "      <td>0.125895</td>\n",
       "      <td>-0.008983</td>\n",
       "      <td>0.014724</td>\n",
       "      <td>2.69</td>\n",
       "    </tr>\n",
       "    <tr>\n",
       "      <th>2</th>\n",
       "      <td>-1.358354</td>\n",
       "      <td>-1.340163</td>\n",
       "      <td>1.773209</td>\n",
       "      <td>0.379780</td>\n",
       "      <td>-0.503198</td>\n",
       "      <td>1.800499</td>\n",
       "      <td>0.791461</td>\n",
       "      <td>0.247676</td>\n",
       "      <td>-1.514654</td>\n",
       "      <td>0.207643</td>\n",
       "      <td>...</td>\n",
       "      <td>0.524980</td>\n",
       "      <td>0.247998</td>\n",
       "      <td>0.771679</td>\n",
       "      <td>0.909412</td>\n",
       "      <td>-0.689281</td>\n",
       "      <td>-0.327642</td>\n",
       "      <td>-0.139097</td>\n",
       "      <td>-0.055353</td>\n",
       "      <td>-0.059752</td>\n",
       "      <td>378.66</td>\n",
       "    </tr>\n",
       "    <tr>\n",
       "      <th>3</th>\n",
       "      <td>-0.966272</td>\n",
       "      <td>-0.185226</td>\n",
       "      <td>1.792993</td>\n",
       "      <td>-0.863291</td>\n",
       "      <td>-0.010309</td>\n",
       "      <td>1.247203</td>\n",
       "      <td>0.237609</td>\n",
       "      <td>0.377436</td>\n",
       "      <td>-1.387024</td>\n",
       "      <td>-0.054952</td>\n",
       "      <td>...</td>\n",
       "      <td>-0.208038</td>\n",
       "      <td>-0.108300</td>\n",
       "      <td>0.005274</td>\n",
       "      <td>-0.190321</td>\n",
       "      <td>-1.175575</td>\n",
       "      <td>0.647376</td>\n",
       "      <td>-0.221929</td>\n",
       "      <td>0.062723</td>\n",
       "      <td>0.061458</td>\n",
       "      <td>123.50</td>\n",
       "    </tr>\n",
       "    <tr>\n",
       "      <th>4</th>\n",
       "      <td>-1.158233</td>\n",
       "      <td>0.877737</td>\n",
       "      <td>1.548718</td>\n",
       "      <td>0.403034</td>\n",
       "      <td>-0.407193</td>\n",
       "      <td>0.095921</td>\n",
       "      <td>0.592941</td>\n",
       "      <td>-0.270533</td>\n",
       "      <td>0.817739</td>\n",
       "      <td>0.753074</td>\n",
       "      <td>...</td>\n",
       "      <td>0.408542</td>\n",
       "      <td>-0.009431</td>\n",
       "      <td>0.798278</td>\n",
       "      <td>-0.137458</td>\n",
       "      <td>0.141267</td>\n",
       "      <td>-0.206010</td>\n",
       "      <td>0.502292</td>\n",
       "      <td>0.219422</td>\n",
       "      <td>0.215153</td>\n",
       "      <td>69.99</td>\n",
       "    </tr>\n",
       "  </tbody>\n",
       "</table>\n",
       "<p>5 rows × 29 columns</p>\n",
       "</div>"
      ],
      "text/plain": [
       "         V1        V2        V3        V4        V5        V6        V7  \\\n",
       "0 -1.359807 -0.072781  2.536347  1.378155 -0.338321  0.462388  0.239599   \n",
       "1  1.191857  0.266151  0.166480  0.448154  0.060018 -0.082361 -0.078803   \n",
       "2 -1.358354 -1.340163  1.773209  0.379780 -0.503198  1.800499  0.791461   \n",
       "3 -0.966272 -0.185226  1.792993 -0.863291 -0.010309  1.247203  0.237609   \n",
       "4 -1.158233  0.877737  1.548718  0.403034 -0.407193  0.095921  0.592941   \n",
       "\n",
       "         V8        V9       V10  ...       V20       V21       V22       V23  \\\n",
       "0  0.098698  0.363787  0.090794  ...  0.251412 -0.018307  0.277838 -0.110474   \n",
       "1  0.085102 -0.255425 -0.166974  ... -0.069083 -0.225775 -0.638672  0.101288   \n",
       "2  0.247676 -1.514654  0.207643  ...  0.524980  0.247998  0.771679  0.909412   \n",
       "3  0.377436 -1.387024 -0.054952  ... -0.208038 -0.108300  0.005274 -0.190321   \n",
       "4 -0.270533  0.817739  0.753074  ...  0.408542 -0.009431  0.798278 -0.137458   \n",
       "\n",
       "        V24       V25       V26       V27       V28  Amount  \n",
       "0  0.066928  0.128539 -0.189115  0.133558 -0.021053  149.62  \n",
       "1 -0.339846  0.167170  0.125895 -0.008983  0.014724    2.69  \n",
       "2 -0.689281 -0.327642 -0.139097 -0.055353 -0.059752  378.66  \n",
       "3 -1.175575  0.647376 -0.221929  0.062723  0.061458  123.50  \n",
       "4  0.141267 -0.206010  0.502292  0.219422  0.215153   69.99  \n",
       "\n",
       "[5 rows x 29 columns]"
      ]
     },
     "execution_count": 10,
     "metadata": {},
     "output_type": "execute_result"
    }
   ],
   "source": [
    "X.head(5)"
   ]
  },
  {
   "cell_type": "code",
   "execution_count": 11,
   "metadata": {},
   "outputs": [],
   "source": [
    "X_under, y_under = under_sampler.fit_resample(X, Y)"
   ]
  },
  {
   "cell_type": "code",
   "execution_count": 12,
   "metadata": {},
   "outputs": [],
   "source": [
    "from pandas import DataFrame\n",
    "test = pd.DataFrame(y_under, columns = ['Class'])"
   ]
  },
  {
   "cell_type": "code",
   "execution_count": 13,
   "metadata": {},
   "outputs": [
    {
     "data": {
      "text/plain": [
       "(1476, 1)"
      ]
     },
     "execution_count": 13,
     "metadata": {},
     "output_type": "execute_result"
    }
   ],
   "source": [
    "test.shape"
   ]
  },
  {
   "cell_type": "code",
   "execution_count": 14,
   "metadata": {},
   "outputs": [
    {
     "data": {
      "image/png": "[encoded data removed]",
      "text/plain": [
       "<Figure size 936x324 with 2 Axes>"
      ]
     },
     "metadata": {
      "needs_background": "light"
     },
     "output_type": "display_data"
    }
   ],
   "source": [
    "#visualizing undersampling results\n",
    "fig, axs = plt.subplots(ncols=2, figsize=(13,4.5))\n",
    "sns.countplot(x=\"Class\", data=data, ax=axs[0])\n",
    "sns.countplot(x=\"Class\", data=test, ax=axs[1])\n",
    "\n",
    "fig.suptitle(\"Class repartition before and after undersampling\")\n",
    "a1=fig.axes[0]\n",
    "a1.set_title(\"Before\")\n",
    "a2=fig.axes[1]\n",
    "a2.set_title(\"After\")\n",
    "plt.show()"
   ]
  },
  {
   "cell_type": "code",
   "execution_count": 15,
   "metadata": {},
   "outputs": [],
   "source": [
    "X_train, X_test, y_train, y_test = train_test_split(X_under, test, random_state=25, test_size= 0.25)"
   ]
  },
  {
   "cell_type": "code",
   "execution_count": 16,
   "metadata": {},
   "outputs": [],
   "source": [
    "from sklearn.linear_model import LogisticRegression\n",
    "from sklearn.neighbors import KNeighborsClassifier\n",
    "from sklearn.naive_bayes import GaussianNB\n",
    "from sklearn.preprocessing import StandardScaler"
   ]
  },
  {
   "cell_type": "code",
   "execution_count": 17,
   "metadata": {},
   "outputs": [],
   "source": [
    "sc_x = StandardScaler()"
   ]
  },
  {
   "cell_type": "code",
   "execution_count": 18,
   "metadata": {},
   "outputs": [],
   "source": [
    "X_train = sc_x.fit_transform(X_train)\n",
    "X_test = sc_x.fit_transform(X_test)"
   ]
  },
  {
   "cell_type": "markdown",
   "metadata": {},
   "source": [
    "# Lgistic Regression for predicting Credit Fraud"
   ]
  },
  {
   "cell_type": "code",
   "execution_count": 19,
   "metadata": {},
   "outputs": [
    {
     "name": "stderr",
     "output_type": "stream",
     "text": [
      "C:\\Users\\Lenovo\\anaconda3\\lib\\site-packages\\sklearn\\utils\\validation.py:63: DataConversionWarning: A column-vector y was passed when a 1d array was expected. Please change the shape of y to (n_samples, ), for example using ravel().\n",
      "  return f(*args, **kwargs)\n"
     ]
    },
    {
     "data": {
      "text/plain": [
       "LogisticRegression(random_state=2)"
      ]
     },
     "execution_count": 19,
     "metadata": {},
     "output_type": "execute_result"
    }
   ],
   "source": [
    "log_model = LogisticRegression(random_state = 2)\n",
    "log_model.fit(X_train, y_train)"
   ]
  },
  {
   "cell_type": "code",
   "execution_count": 20,
   "metadata": {},
   "outputs": [],
   "source": [
    "log_y_pred = log_model.predict(X_test)"
   ]
  },
  {
   "cell_type": "markdown",
   "metadata": {},
   "source": [
    "Validating the Predicted values and Checking the Model Performace"
   ]
  },
  {
   "cell_type": "code",
   "execution_count": 21,
   "metadata": {},
   "outputs": [],
   "source": [
    "from sklearn import metrics "
   ]
  },
  {
   "cell_type": "code",
   "execution_count": 22,
   "metadata": {},
   "outputs": [
    {
     "name": "stdout",
     "output_type": "stream",
     "text": [
      "[[238   5]\n",
      " [ 18 108]]\n"
     ]
    }
   ],
   "source": [
    "log_cm = metrics.confusion_matrix(y_test, log_y_pred)\n",
    "print(log_cm)"
   ]
  },
  {
   "cell_type": "code",
   "execution_count": 23,
   "metadata": {},
   "outputs": [
    {
     "name": "stdout",
     "output_type": "stream",
     "text": [
      "Log Classification Report               precision    recall  f1-score   support\n",
      "\n",
      "           0       0.93      0.98      0.95       243\n",
      "           1       0.96      0.86      0.90       126\n",
      "\n",
      "    accuracy                           0.94       369\n",
      "   macro avg       0.94      0.92      0.93       369\n",
      "weighted avg       0.94      0.94      0.94       369\n",
      "\n"
     ]
    }
   ],
   "source": [
    "log_classification_report = metrics.classification_report(y_test, log_y_pred)\n",
    "print('Log Classification Report',log_classification_report)"
   ]
  },
  {
   "cell_type": "code",
   "execution_count": 24,
   "metadata": {},
   "outputs": [
    {
     "name": "stdout",
     "output_type": "stream",
     "text": [
      "Accuracy Logit: 93.76693766937669\n",
      "Precision Logit: 95.57522123893806\n",
      "Recall Logit: 85.71428571428571\n",
      "F1 Score Logit: 90.3765690376569\n"
     ]
    }
   ],
   "source": [
    "print(\"Accuracy Logit:\",metrics.accuracy_score(y_test, log_y_pred)*100)\n",
    "print(\"Precision Logit:\",metrics.precision_score(y_test, log_y_pred)*100)\n",
    "print(\"Recall Logit:\",metrics.recall_score(y_test, log_y_pred)*100)\n",
    "print(\"F1 Score Logit:\",metrics.f1_score(y_test, log_y_pred)*100)"
   ]
  },
  {
   "cell_type": "code",
   "execution_count": 25,
   "metadata": {},
   "outputs": [
    {
     "data": {
      "image/png": "[encoded data removed]",
      "text/plain": [
       "<Figure size 432x288 with 1 Axes>"
      ]
     },
     "metadata": {
      "needs_background": "light"
     },
     "output_type": "display_data"
    }
   ],
   "source": [
    "matrix_logit = metrics.confusion_matrix(y_test, log_y_pred)\n",
    "cm_logit = pd.DataFrame(matrix_logit, index=['not_fraud', 'fraud'], columns=['not_fraud', 'fraud'])\n",
    "\n",
    "sns.heatmap(cm_logit, annot=True, cbar=None, cmap=\"Blues\", fmt = 'g')\n",
    "plt.title(\"Confusion Matrix Logit\"), plt.tight_layout()\n",
    "plt.ylabel(\"True Class\"), plt.xlabel(\"Predicted Class\")\n",
    "plt.show()"
   ]
  },
  {
   "cell_type": "code",
   "execution_count": 26,
   "metadata": {},
   "outputs": [
    {
     "name": "stdout",
     "output_type": "stream",
     "text": [
      "AUC Logistic Regression : 96.71108498268993\n"
     ]
    }
   ],
   "source": [
    "y_pred_logit_proba = log_model.predict_proba(X_test)[::,1]\n",
    "fpr_logit, tpr_logit, _ = metrics.roc_curve(y_test,  y_pred_logit_proba)\n",
    "log_auc_logit = metrics.roc_auc_score(y_test, y_pred_logit_proba)\n",
    "print(\"AUC Logistic Regression :\", log_auc_logit*100)"
   ]
  },
  {
   "cell_type": "code",
   "execution_count": 27,
   "metadata": {},
   "outputs": [
    {
     "data": {
      "image/png": "[encoded data removed]",
      "text/plain": [
       "<Figure size 432x288 with 1 Axes>"
      ]
     },
     "metadata": {
      "needs_background": "light"
     },
     "output_type": "display_data"
    }
   ],
   "source": [
    "#ROC\n",
    "plt.plot(fpr_logit,tpr_logit, label=\"Logistic Regression, auc={:.3f})\".format(log_auc_logit))\n",
    "plt.plot([0, 1], [0, 1], 'k--')\n",
    "plt.xlabel('False positive rate')\n",
    "plt.ylabel('True positive rate')\n",
    "plt.title('Logistic Regression ROC curve')\n",
    "plt.legend(loc=4)\n",
    "plt.show()"
   ]
  },
  {
   "cell_type": "markdown",
   "metadata": {},
   "source": [
    "# Neural Network for Predicting the Credit Risk"
   ]
  },
  {
   "cell_type": "code",
   "execution_count": 28,
   "metadata": {},
   "outputs": [],
   "source": [
    "from tensorflow.keras import layers, Sequential"
   ]
  },
  {
   "cell_type": "code",
   "execution_count": 29,
   "metadata": {},
   "outputs": [],
   "source": [
    "model = Sequential()\n",
    "model.add(layers.Dense(50, input_dim=29, activation='relu'))\n",
    "model.add(layers.Dense(29, activation='relu'))\n",
    "model.add(layers.Dense(14, activation='relu'))\n",
    "model.add(layers.Dropout(.20))\n",
    "model.add(layers.Dense(1, activation='sigmoid'))"
   ]
  },
  {
   "cell_type": "code",
   "execution_count": 30,
   "metadata": {},
   "outputs": [
    {
     "name": "stdout",
     "output_type": "stream",
     "text": [
      "Model: \"sequential\"\n",
      "_________________________________________________________________\n",
      "Layer (type)                 Output Shape              Param #   \n",
      "=================================================================\n",
      "dense (Dense)                (None, 50)                1500      \n",
      "_________________________________________________________________\n",
      "dense_1 (Dense)              (None, 29)                1479      \n",
      "_________________________________________________________________\n",
      "dense_2 (Dense)              (None, 14)                420       \n",
      "_________________________________________________________________\n",
      "dropout (Dropout)            (None, 14)                0         \n",
      "_________________________________________________________________\n",
      "dense_3 (Dense)              (None, 1)                 15        \n",
      "=================================================================\n",
      "Total params: 3,414\n",
      "Trainable params: 3,414\n",
      "Non-trainable params: 0\n",
      "_________________________________________________________________\n"
     ]
    }
   ],
   "source": [
    "model.summary()"
   ]
  },
  {
   "cell_type": "code",
   "execution_count": 31,
   "metadata": {},
   "outputs": [],
   "source": [
    "model.compile(loss='binary_crossentropy', optimizer='adam', metrics=['accuracy'])"
   ]
  },
  {
   "cell_type": "code",
   "execution_count": 32,
   "metadata": {},
   "outputs": [
    {
     "name": "stdout",
     "output_type": "stream",
     "text": [
      "Epoch 1/200\n",
      "148/148 [==============================] - 0s 2ms/step - loss: 1.0446 - accuracy: 0.7547\n",
      "Epoch 2/200\n",
      "148/148 [==============================] - 0s 2ms/step - loss: 0.3824 - accuracy: 0.8977\n",
      "Epoch 3/200\n",
      "148/148 [==============================] - 0s 2ms/step - loss: 0.2949 - accuracy: 0.9262\n",
      "Epoch 4/200\n",
      "148/148 [==============================] - 0s 2ms/step - loss: 0.2778 - accuracy: 0.9322\n",
      "Epoch 5/200\n",
      "148/148 [==============================] - 0s 2ms/step - loss: 0.2223 - accuracy: 0.9336\n",
      "Epoch 6/200\n",
      "148/148 [==============================] - 0s 2ms/step - loss: 0.1824 - accuracy: 0.9411\n",
      "Epoch 7/200\n",
      "148/148 [==============================] - 0s 2ms/step - loss: 0.1664 - accuracy: 0.9431\n",
      "Epoch 8/200\n",
      "148/148 [==============================] - 0s 2ms/step - loss: 0.1662 - accuracy: 0.9417\n",
      "Epoch 9/200\n",
      "148/148 [==============================] - 0s 2ms/step - loss: 0.1956 - accuracy: 0.9390\n",
      "Epoch 10/200\n",
      "148/148 [==============================] - 0s 2ms/step - loss: 0.2202 - accuracy: 0.9472\n",
      "Epoch 11/200\n",
      "148/148 [==============================] - 0s 2ms/step - loss: 0.1899 - accuracy: 0.9519\n",
      "Epoch 12/200\n",
      "148/148 [==============================] - 0s 2ms/step - loss: 0.1796 - accuracy: 0.9519\n",
      "Epoch 13/200\n",
      "148/148 [==============================] - 0s 2ms/step - loss: 0.1521 - accuracy: 0.9539\n",
      "Epoch 14/200\n",
      "148/148 [==============================] - 0s 2ms/step - loss: 0.1306 - accuracy: 0.9587\n",
      "Epoch 15/200\n",
      "148/148 [==============================] - 0s 2ms/step - loss: 0.1689 - accuracy: 0.9492\n",
      "Epoch 16/200\n",
      "148/148 [==============================] - 0s 2ms/step - loss: 0.1543 - accuracy: 0.9411\n",
      "Epoch 17/200\n",
      "148/148 [==============================] - 0s 2ms/step - loss: 0.1380 - accuracy: 0.9526\n",
      "Epoch 18/200\n",
      "148/148 [==============================] - 0s 2ms/step - loss: 0.1717 - accuracy: 0.9580\n",
      "Epoch 19/200\n",
      "148/148 [==============================] - 0s 2ms/step - loss: 0.1275 - accuracy: 0.9546\n",
      "Epoch 20/200\n",
      "148/148 [==============================] - 0s 2ms/step - loss: 0.1401 - accuracy: 0.9634\n",
      "Epoch 21/200\n",
      "148/148 [==============================] - 0s 2ms/step - loss: 0.1144 - accuracy: 0.9654\n",
      "Epoch 22/200\n",
      "148/148 [==============================] - 0s 2ms/step - loss: 0.1049 - accuracy: 0.9634\n",
      "Epoch 23/200\n",
      "148/148 [==============================] - 0s 2ms/step - loss: 0.1033 - accuracy: 0.9641\n",
      "Epoch 24/200\n",
      "148/148 [==============================] - 0s 2ms/step - loss: 0.0950 - accuracy: 0.9634\n",
      "Epoch 25/200\n",
      "148/148 [==============================] - 0s 2ms/step - loss: 0.0909 - accuracy: 0.9634\n",
      "Epoch 26/200\n",
      "148/148 [==============================] - 0s 2ms/step - loss: 0.0986 - accuracy: 0.9627\n",
      "Epoch 27/200\n",
      "148/148 [==============================] - 0s 2ms/step - loss: 0.1210 - accuracy: 0.9614\n",
      "Epoch 28/200\n",
      "148/148 [==============================] - 0s 2ms/step - loss: 0.1031 - accuracy: 0.9641\n",
      "Epoch 29/200\n",
      "148/148 [==============================] - 0s 2ms/step - loss: 0.1052 - accuracy: 0.9668\n",
      "Epoch 30/200\n",
      "148/148 [==============================] - 0s 2ms/step - loss: 0.1321 - accuracy: 0.9607\n",
      "Epoch 31/200\n",
      "148/148 [==============================] - 0s 2ms/step - loss: 0.0984 - accuracy: 0.9668\n",
      "Epoch 32/200\n",
      "148/148 [==============================] - 0s 2ms/step - loss: 0.0822 - accuracy: 0.9661\n",
      "Epoch 33/200\n",
      "148/148 [==============================] - 0s 2ms/step - loss: 0.0778 - accuracy: 0.9675\n",
      "Epoch 34/200\n",
      "148/148 [==============================] - 0s 2ms/step - loss: 0.0842 - accuracy: 0.9641\n",
      "Epoch 35/200\n",
      "148/148 [==============================] - 0s 2ms/step - loss: 0.1108 - accuracy: 0.9621\n",
      "Epoch 36/200\n",
      "148/148 [==============================] - 0s 2ms/step - loss: 0.1133 - accuracy: 0.9566\n",
      "Epoch 37/200\n",
      "148/148 [==============================] - 0s 2ms/step - loss: 0.1268 - accuracy: 0.9566\n",
      "Epoch 38/200\n",
      "148/148 [==============================] - 0s 2ms/step - loss: 0.1390 - accuracy: 0.9641\n",
      "Epoch 39/200\n",
      "148/148 [==============================] - 0s 2ms/step - loss: 0.1035 - accuracy: 0.9600\n",
      "Epoch 40/200\n",
      "148/148 [==============================] - 0s 2ms/step - loss: 0.0890 - accuracy: 0.9607\n",
      "Epoch 41/200\n",
      "148/148 [==============================] - 0s 2ms/step - loss: 0.1104 - accuracy: 0.9627\n",
      "Epoch 42/200\n",
      "148/148 [==============================] - 0s 2ms/step - loss: 0.0772 - accuracy: 0.9654\n",
      "Epoch 43/200\n",
      "148/148 [==============================] - 0s 2ms/step - loss: 0.0643 - accuracy: 0.9709\n",
      "Epoch 44/200\n",
      "148/148 [==============================] - 0s 2ms/step - loss: 0.0729 - accuracy: 0.9675\n",
      "Epoch 45/200\n",
      "148/148 [==============================] - 0s 2ms/step - loss: 0.0794 - accuracy: 0.9722\n",
      "Epoch 46/200\n",
      "148/148 [==============================] - 0s 2ms/step - loss: 0.0768 - accuracy: 0.9661\n",
      "Epoch 47/200\n",
      "148/148 [==============================] - 0s 2ms/step - loss: 0.1329 - accuracy: 0.9654\n",
      "Epoch 48/200\n",
      "148/148 [==============================] - 0s 2ms/step - loss: 0.0985 - accuracy: 0.9641\n",
      "Epoch 49/200\n",
      "148/148 [==============================] - 0s 2ms/step - loss: 0.0878 - accuracy: 0.9709\n",
      "Epoch 50/200\n",
      "148/148 [==============================] - 0s 2ms/step - loss: 0.0673 - accuracy: 0.9722\n",
      "Epoch 51/200\n",
      "148/148 [==============================] - 0s 2ms/step - loss: 0.1057 - accuracy: 0.9621\n",
      "Epoch 52/200\n",
      "148/148 [==============================] - 0s 2ms/step - loss: 0.0731 - accuracy: 0.9702\n",
      "Epoch 53/200\n",
      "148/148 [==============================] - 0s 2ms/step - loss: 0.0551 - accuracy: 0.9770\n",
      "Epoch 54/200\n",
      "148/148 [==============================] - 0s 2ms/step - loss: 0.0649 - accuracy: 0.9722\n",
      "Epoch 55/200\n",
      "148/148 [==============================] - 0s 2ms/step - loss: 0.0658 - accuracy: 0.9682\n",
      "Epoch 56/200\n",
      "148/148 [==============================] - 0s 2ms/step - loss: 0.0707 - accuracy: 0.9722\n",
      "Epoch 57/200\n",
      "148/148 [==============================] - 0s 2ms/step - loss: 0.0665 - accuracy: 0.9709\n",
      "Epoch 58/200\n",
      "148/148 [==============================] - 0s 2ms/step - loss: 0.0692 - accuracy: 0.9743\n",
      "Epoch 59/200\n",
      "148/148 [==============================] - 0s 2ms/step - loss: 0.0746 - accuracy: 0.9743\n",
      "Epoch 60/200\n",
      "148/148 [==============================] - 0s 2ms/step - loss: 0.0650 - accuracy: 0.9763\n",
      "Epoch 61/200\n",
      "148/148 [==============================] - 0s 2ms/step - loss: 0.0722 - accuracy: 0.9736\n",
      "Epoch 62/200\n",
      "148/148 [==============================] - 0s 2ms/step - loss: 0.0738 - accuracy: 0.9682\n",
      "Epoch 63/200\n",
      "148/148 [==============================] - 0s 2ms/step - loss: 0.0704 - accuracy: 0.9702\n",
      "Epoch 64/200\n",
      "148/148 [==============================] - 0s 2ms/step - loss: 0.0674 - accuracy: 0.9749\n",
      "Epoch 65/200\n",
      "148/148 [==============================] - 0s 2ms/step - loss: 0.0602 - accuracy: 0.9763\n",
      "Epoch 66/200\n",
      "148/148 [==============================] - 0s 2ms/step - loss: 0.0576 - accuracy: 0.9736\n",
      "Epoch 67/200\n",
      "148/148 [==============================] - 0s 2ms/step - loss: 0.0732 - accuracy: 0.9763\n",
      "Epoch 68/200\n",
      "148/148 [==============================] - 0s 2ms/step - loss: 0.0671 - accuracy: 0.9770\n",
      "Epoch 69/200\n",
      "148/148 [==============================] - 0s 2ms/step - loss: 0.0693 - accuracy: 0.9709\n",
      "Epoch 70/200\n",
      "148/148 [==============================] - 0s 2ms/step - loss: 0.0926 - accuracy: 0.9661\n",
      "Epoch 71/200\n",
      "148/148 [==============================] - 0s 2ms/step - loss: 0.0745 - accuracy: 0.9688\n",
      "Epoch 72/200\n",
      "148/148 [==============================] - 0s 2ms/step - loss: 0.0713 - accuracy: 0.9661\n",
      "Epoch 73/200\n",
      "148/148 [==============================] - 0s 2ms/step - loss: 0.0758 - accuracy: 0.9743\n",
      "Epoch 74/200\n",
      "148/148 [==============================] - 0s 2ms/step - loss: 0.0704 - accuracy: 0.9743\n",
      "Epoch 75/200\n",
      "148/148 [==============================] - 0s 2ms/step - loss: 0.0597 - accuracy: 0.9790\n",
      "Epoch 76/200\n",
      "148/148 [==============================] - 0s 2ms/step - loss: 0.0571 - accuracy: 0.9763\n",
      "Epoch 77/200\n",
      "148/148 [==============================] - 0s 2ms/step - loss: 0.0503 - accuracy: 0.9776\n",
      "Epoch 78/200\n",
      "148/148 [==============================] - 0s 2ms/step - loss: 0.0583 - accuracy: 0.9770\n",
      "Epoch 79/200\n",
      "148/148 [==============================] - 0s 2ms/step - loss: 0.0632 - accuracy: 0.9776\n",
      "Epoch 80/200\n",
      "148/148 [==============================] - 0s 2ms/step - loss: 0.0776 - accuracy: 0.9776\n",
      "Epoch 81/200\n",
      "148/148 [==============================] - 0s 2ms/step - loss: 0.0733 - accuracy: 0.9736\n",
      "Epoch 82/200\n",
      "148/148 [==============================] - 0s 2ms/step - loss: 0.0895 - accuracy: 0.9770\n",
      "Epoch 83/200\n",
      "148/148 [==============================] - 0s 2ms/step - loss: 0.0833 - accuracy: 0.9695\n",
      "Epoch 84/200\n",
      "148/148 [==============================] - 0s 2ms/step - loss: 0.0804 - accuracy: 0.9722\n",
      "Epoch 85/200\n",
      "148/148 [==============================] - 0s 2ms/step - loss: 0.0767 - accuracy: 0.9763\n",
      "Epoch 86/200\n",
      "148/148 [==============================] - 0s 2ms/step - loss: 0.0745 - accuracy: 0.9729\n",
      "Epoch 87/200\n",
      "148/148 [==============================] - 0s 2ms/step - loss: 0.0598 - accuracy: 0.9756\n",
      "Epoch 88/200\n",
      "148/148 [==============================] - 0s 2ms/step - loss: 0.0591 - accuracy: 0.9770\n",
      "Epoch 89/200\n",
      "148/148 [==============================] - 0s 2ms/step - loss: 0.0600 - accuracy: 0.9749\n",
      "Epoch 90/200\n",
      "148/148 [==============================] - 0s 2ms/step - loss: 0.0641 - accuracy: 0.9763\n",
      "Epoch 91/200\n",
      "148/148 [==============================] - 0s 2ms/step - loss: 0.0715 - accuracy: 0.9709\n",
      "Epoch 92/200\n",
      "148/148 [==============================] - 0s 2ms/step - loss: 0.0647 - accuracy: 0.9770\n",
      "Epoch 93/200\n",
      "148/148 [==============================] - 0s 2ms/step - loss: 0.0671 - accuracy: 0.9709\n",
      "Epoch 94/200\n",
      "148/148 [==============================] - 0s 2ms/step - loss: 0.0668 - accuracy: 0.9709\n",
      "Epoch 95/200\n",
      "148/148 [==============================] - 0s 2ms/step - loss: 0.0628 - accuracy: 0.9715\n",
      "Epoch 96/200\n",
      "148/148 [==============================] - 0s 2ms/step - loss: 0.0548 - accuracy: 0.9770\n",
      "Epoch 97/200\n",
      "148/148 [==============================] - 0s 2ms/step - loss: 0.0503 - accuracy: 0.9776\n",
      "Epoch 98/200\n",
      "148/148 [==============================] - 0s 2ms/step - loss: 0.0634 - accuracy: 0.9797\n",
      "Epoch 99/200\n",
      "148/148 [==============================] - 0s 2ms/step - loss: 0.0715 - accuracy: 0.9722\n",
      "Epoch 100/200\n",
      "148/148 [==============================] - 0s 2ms/step - loss: 0.0690 - accuracy: 0.9729\n",
      "Epoch 101/200\n",
      "148/148 [==============================] - 0s 2ms/step - loss: 0.0628 - accuracy: 0.9743\n",
      "Epoch 102/200\n",
      "148/148 [==============================] - 0s 2ms/step - loss: 0.0634 - accuracy: 0.9776\n",
      "Epoch 103/200\n",
      "148/148 [==============================] - 0s 2ms/step - loss: 0.0526 - accuracy: 0.9790\n",
      "Epoch 104/200\n",
      "148/148 [==============================] - 0s 2ms/step - loss: 0.0551 - accuracy: 0.9763\n",
      "Epoch 105/200\n",
      "148/148 [==============================] - 0s 2ms/step - loss: 0.0506 - accuracy: 0.9776\n",
      "Epoch 106/200\n",
      "148/148 [==============================] - 0s 2ms/step - loss: 0.0653 - accuracy: 0.9790\n",
      "Epoch 107/200\n",
      "148/148 [==============================] - 0s 2ms/step - loss: 0.0706 - accuracy: 0.9776\n",
      "Epoch 108/200\n",
      "148/148 [==============================] - 0s 2ms/step - loss: 0.0704 - accuracy: 0.9749\n",
      "Epoch 109/200\n",
      "148/148 [==============================] - 0s 2ms/step - loss: 0.0728 - accuracy: 0.9790\n",
      "Epoch 110/200\n",
      "148/148 [==============================] - 0s 2ms/step - loss: 0.0908 - accuracy: 0.9695\n",
      "Epoch 111/200\n",
      "148/148 [==============================] - 0s 2ms/step - loss: 0.0685 - accuracy: 0.9688\n",
      "Epoch 112/200\n",
      "148/148 [==============================] - 0s 2ms/step - loss: 0.0692 - accuracy: 0.9702\n",
      "Epoch 113/200\n",
      "148/148 [==============================] - 0s 2ms/step - loss: 0.0696 - accuracy: 0.9695\n",
      "Epoch 114/200\n",
      "148/148 [==============================] - 0s 2ms/step - loss: 0.0682 - accuracy: 0.9675\n",
      "Epoch 115/200\n",
      "148/148 [==============================] - 0s 2ms/step - loss: 0.0685 - accuracy: 0.9702\n",
      "Epoch 116/200\n",
      "148/148 [==============================] - 0s 2ms/step - loss: 0.0624 - accuracy: 0.9709\n",
      "Epoch 117/200\n",
      "148/148 [==============================] - 0s 2ms/step - loss: 0.0628 - accuracy: 0.9743\n",
      "Epoch 118/200\n",
      "148/148 [==============================] - 0s 2ms/step - loss: 0.0825 - accuracy: 0.9783\n",
      "Epoch 119/200\n",
      "148/148 [==============================] - 0s 2ms/step - loss: 0.0881 - accuracy: 0.9749\n",
      "Epoch 120/200\n",
      "148/148 [==============================] - 0s 2ms/step - loss: 0.0738 - accuracy: 0.9709\n",
      "Epoch 121/200\n",
      "148/148 [==============================] - 0s 2ms/step - loss: 0.0624 - accuracy: 0.9797\n",
      "Epoch 122/200\n",
      "148/148 [==============================] - 0s 2ms/step - loss: 0.0505 - accuracy: 0.9790\n",
      "Epoch 123/200\n",
      "148/148 [==============================] - 0s 2ms/step - loss: 0.0487 - accuracy: 0.9810\n",
      "Epoch 124/200\n",
      "148/148 [==============================] - 0s 2ms/step - loss: 0.0603 - accuracy: 0.9756\n",
      "Epoch 125/200\n",
      "148/148 [==============================] - 0s 2ms/step - loss: 0.0506 - accuracy: 0.9770\n",
      "Epoch 126/200\n",
      "148/148 [==============================] - 0s 2ms/step - loss: 0.0458 - accuracy: 0.9783\n",
      "Epoch 127/200\n",
      "148/148 [==============================] - 0s 2ms/step - loss: 0.0710 - accuracy: 0.9770\n",
      "Epoch 128/200\n",
      "148/148 [==============================] - 0s 2ms/step - loss: 0.0615 - accuracy: 0.9770\n",
      "Epoch 129/200\n",
      "148/148 [==============================] - 0s 2ms/step - loss: 0.0594 - accuracy: 0.9770\n",
      "Epoch 130/200\n",
      "148/148 [==============================] - 0s 2ms/step - loss: 0.0590 - accuracy: 0.9783\n",
      "Epoch 131/200\n",
      "148/148 [==============================] - 0s 3ms/step - loss: 0.0753 - accuracy: 0.9743\n",
      "Epoch 132/200\n",
      "148/148 [==============================] - 0s 2ms/step - loss: 0.0691 - accuracy: 0.9783\n",
      "Epoch 133/200\n",
      "148/148 [==============================] - 0s 2ms/step - loss: 0.0685 - accuracy: 0.9749\n",
      "Epoch 134/200\n",
      "148/148 [==============================] - 0s 2ms/step - loss: 0.0552 - accuracy: 0.9790\n",
      "Epoch 135/200\n",
      "148/148 [==============================] - 0s 2ms/step - loss: 0.0484 - accuracy: 0.9783\n",
      "Epoch 136/200\n",
      "148/148 [==============================] - 0s 2ms/step - loss: 0.0559 - accuracy: 0.9797\n",
      "Epoch 137/200\n",
      "148/148 [==============================] - 0s 2ms/step - loss: 0.0584 - accuracy: 0.9770\n",
      "Epoch 138/200\n",
      "148/148 [==============================] - 0s 2ms/step - loss: 0.0585 - accuracy: 0.9804\n",
      "Epoch 139/200\n",
      "148/148 [==============================] - 0s 2ms/step - loss: 0.0581 - accuracy: 0.9790\n",
      "Epoch 140/200\n",
      "148/148 [==============================] - 0s 2ms/step - loss: 0.0508 - accuracy: 0.9797\n",
      "Epoch 141/200\n",
      "148/148 [==============================] - 0s 2ms/step - loss: 0.0594 - accuracy: 0.9776\n",
      "Epoch 142/200\n",
      "148/148 [==============================] - 0s 2ms/step - loss: 0.0498 - accuracy: 0.9790\n",
      "Epoch 143/200\n",
      "148/148 [==============================] - 0s 2ms/step - loss: 0.0874 - accuracy: 0.9688\n",
      "Epoch 144/200\n",
      "148/148 [==============================] - 0s 2ms/step - loss: 0.0620 - accuracy: 0.9715\n",
      "Epoch 145/200\n",
      "148/148 [==============================] - 0s 2ms/step - loss: 0.0667 - accuracy: 0.9695\n",
      "Epoch 146/200\n",
      "148/148 [==============================] - 0s 2ms/step - loss: 0.0523 - accuracy: 0.9776\n",
      "Epoch 147/200\n",
      "148/148 [==============================] - 0s 2ms/step - loss: 0.0448 - accuracy: 0.9804\n",
      "Epoch 148/200\n",
      "148/148 [==============================] - 0s 2ms/step - loss: 0.0509 - accuracy: 0.9770\n",
      "Epoch 149/200\n",
      "148/148 [==============================] - 0s 2ms/step - loss: 0.0648 - accuracy: 0.9743\n",
      "Epoch 150/200\n",
      "148/148 [==============================] - 0s 2ms/step - loss: 0.0580 - accuracy: 0.9749\n",
      "Epoch 151/200\n",
      "148/148 [==============================] - 0s 2ms/step - loss: 0.0624 - accuracy: 0.9790\n",
      "Epoch 152/200\n",
      "148/148 [==============================] - 0s 2ms/step - loss: 0.0521 - accuracy: 0.9797\n",
      "Epoch 153/200\n",
      "148/148 [==============================] - 0s 2ms/step - loss: 0.0471 - accuracy: 0.9790\n",
      "Epoch 154/200\n",
      "148/148 [==============================] - 0s 2ms/step - loss: 0.0664 - accuracy: 0.9776\n",
      "Epoch 155/200\n",
      "148/148 [==============================] - 0s 2ms/step - loss: 0.0583 - accuracy: 0.9797\n",
      "Epoch 156/200\n",
      "148/148 [==============================] - 0s 2ms/step - loss: 0.0591 - accuracy: 0.9783\n",
      "Epoch 157/200\n",
      "148/148 [==============================] - 0s 2ms/step - loss: 0.0492 - accuracy: 0.9790\n",
      "Epoch 158/200\n",
      "148/148 [==============================] - 0s 2ms/step - loss: 0.0508 - accuracy: 0.9790\n",
      "Epoch 159/200\n",
      "148/148 [==============================] - 0s 2ms/step - loss: 0.0563 - accuracy: 0.9804\n",
      "Epoch 160/200\n",
      "148/148 [==============================] - 0s 2ms/step - loss: 0.0531 - accuracy: 0.9804\n",
      "Epoch 161/200\n",
      "148/148 [==============================] - 0s 2ms/step - loss: 0.0497 - accuracy: 0.9797\n",
      "Epoch 162/200\n",
      "148/148 [==============================] - 0s 2ms/step - loss: 0.0593 - accuracy: 0.9797\n",
      "Epoch 163/200\n",
      "148/148 [==============================] - 0s 2ms/step - loss: 0.0630 - accuracy: 0.9729\n",
      "Epoch 164/200\n",
      "148/148 [==============================] - 0s 2ms/step - loss: 0.0526 - accuracy: 0.9770\n",
      "Epoch 165/200\n",
      "148/148 [==============================] - 0s 2ms/step - loss: 0.0484 - accuracy: 0.9810\n",
      "Epoch 166/200\n",
      "148/148 [==============================] - 0s 2ms/step - loss: 0.0832 - accuracy: 0.9797\n",
      "Epoch 167/200\n",
      "148/148 [==============================] - 0s 2ms/step - loss: 0.0578 - accuracy: 0.9804\n",
      "Epoch 168/200\n",
      "148/148 [==============================] - 0s 2ms/step - loss: 0.0624 - accuracy: 0.9783\n",
      "Epoch 169/200\n",
      "148/148 [==============================] - 0s 2ms/step - loss: 0.0594 - accuracy: 0.9804\n",
      "Epoch 170/200\n",
      "148/148 [==============================] - 0s 2ms/step - loss: 0.0527 - accuracy: 0.9824\n",
      "Epoch 171/200\n",
      "148/148 [==============================] - 0s 2ms/step - loss: 0.0611 - accuracy: 0.9770\n",
      "Epoch 172/200\n",
      "148/148 [==============================] - 0s 2ms/step - loss: 0.0460 - accuracy: 0.9804\n",
      "Epoch 173/200\n",
      "148/148 [==============================] - 0s 2ms/step - loss: 0.0581 - accuracy: 0.9790\n",
      "Epoch 174/200\n",
      "148/148 [==============================] - 0s 2ms/step - loss: 0.0557 - accuracy: 0.9756\n",
      "Epoch 175/200\n",
      "148/148 [==============================] - 0s 2ms/step - loss: 0.0543 - accuracy: 0.9749\n",
      "Epoch 176/200\n",
      "148/148 [==============================] - 0s 2ms/step - loss: 0.0498 - accuracy: 0.9763\n",
      "Epoch 177/200\n",
      "148/148 [==============================] - 0s 2ms/step - loss: 0.0459 - accuracy: 0.9804\n",
      "Epoch 178/200\n",
      "148/148 [==============================] - 0s 2ms/step - loss: 0.0512 - accuracy: 0.9797\n",
      "Epoch 179/200\n",
      "148/148 [==============================] - 0s 2ms/step - loss: 0.0516 - accuracy: 0.9797\n",
      "Epoch 180/200\n",
      "148/148 [==============================] - 0s 2ms/step - loss: 0.0540 - accuracy: 0.9804\n",
      "Epoch 181/200\n",
      "148/148 [==============================] - 0s 2ms/step - loss: 0.0536 - accuracy: 0.9804\n",
      "Epoch 182/200\n",
      "148/148 [==============================] - 0s 2ms/step - loss: 0.0516 - accuracy: 0.9763\n",
      "Epoch 183/200\n",
      "148/148 [==============================] - 0s 2ms/step - loss: 0.0503 - accuracy: 0.9736\n",
      "Epoch 184/200\n",
      "148/148 [==============================] - 0s 2ms/step - loss: 0.0484 - accuracy: 0.9776\n",
      "Epoch 185/200\n",
      "148/148 [==============================] - 0s 2ms/step - loss: 0.0599 - accuracy: 0.9783\n",
      "Epoch 186/200\n",
      "148/148 [==============================] - 0s 2ms/step - loss: 0.0530 - accuracy: 0.9797\n",
      "Epoch 187/200\n",
      "148/148 [==============================] - 0s 2ms/step - loss: 0.0580 - accuracy: 0.9776\n",
      "Epoch 188/200\n",
      "148/148 [==============================] - 0s 2ms/step - loss: 0.0488 - accuracy: 0.9763\n",
      "Epoch 189/200\n",
      "148/148 [==============================] - 0s 2ms/step - loss: 0.0442 - accuracy: 0.9797\n",
      "Epoch 190/200\n",
      "148/148 [==============================] - 0s 2ms/step - loss: 0.0425 - accuracy: 0.9804\n",
      "Epoch 191/200\n",
      "148/148 [==============================] - 0s 2ms/step - loss: 0.0417 - accuracy: 0.9810\n",
      "Epoch 192/200\n",
      "148/148 [==============================] - 0s 2ms/step - loss: 0.0438 - accuracy: 0.9804\n",
      "Epoch 193/200\n",
      "148/148 [==============================] - 0s 2ms/step - loss: 0.0454 - accuracy: 0.9810\n",
      "Epoch 194/200\n",
      "148/148 [==============================] - 0s 2ms/step - loss: 0.0427 - accuracy: 0.9810\n",
      "Epoch 195/200\n",
      "148/148 [==============================] - 0s 2ms/step - loss: 0.0437 - accuracy: 0.9804\n",
      "Epoch 196/200\n",
      "148/148 [==============================] - 0s 2ms/step - loss: 0.0410 - accuracy: 0.9804\n",
      "Epoch 197/200\n",
      "148/148 [==============================] - 0s 2ms/step - loss: 0.0397 - accuracy: 0.9831\n",
      "Epoch 198/200\n",
      "148/148 [==============================] - 0s 2ms/step - loss: 0.0513 - accuracy: 0.9790\n",
      "Epoch 199/200\n",
      "148/148 [==============================] - 0s 2ms/step - loss: 0.0485 - accuracy: 0.9797\n",
      "Epoch 200/200\n",
      "148/148 [==============================] - 0s 2ms/step - loss: 0.0413 - accuracy: 0.9817\n"
     ]
    }
   ],
   "source": [
    "history = model.fit(X_under, test, epochs=200, batch_size=10)"
   ]
  },
  {
   "cell_type": "code",
   "execution_count": 33,
   "metadata": {},
   "outputs": [
    {
     "name": "stdout",
     "output_type": "stream",
     "text": [
      "dict_keys(['loss', 'accuracy'])\n"
     ]
    }
   ],
   "source": [
    "print(history.history.keys())"
   ]
  },
  {
   "cell_type": "code",
   "execution_count": 34,
   "metadata": {},
   "outputs": [
    {
     "data": {
      "image/png": "[encoded data removed]",
      "text/plain": [
       "<Figure size 432x288 with 1 Axes>"
      ]
     },
     "metadata": {
      "needs_background": "light"
     },
     "output_type": "display_data"
    }
   ],
   "source": [
    "plt.plot(history.history['accuracy'])\n",
    "plt.title('model accuracy')\n",
    "plt.ylabel('accuracy')\n",
    "plt.xlabel('epoch')\n",
    "plt.legend(['train'], loc='upper left')\n",
    "plt.show()"
   ]
  },
  {
   "cell_type": "code",
   "execution_count": 35,
   "metadata": {},
   "outputs": [
    {
     "data": {
      "image/png": "[encoded data removed]",
      "text/plain": [
       "<Figure size 432x288 with 1 Axes>"
      ]
     },
     "metadata": {
      "needs_background": "light"
     },
     "output_type": "display_data"
    }
   ],
   "source": [
    "plt.plot(history.history['loss'])\n",
    "plt.title('model loss')\n",
    "plt.ylabel('loss')\n",
    "plt.xlabel('epoch')\n",
    "plt.legend(['train', 'test'], loc='upper left')\n",
    "plt.show()"
   ]
  },
  {
   "cell_type": "code",
   "execution_count": 36,
   "metadata": {},
   "outputs": [],
   "source": [
    "neural_y_pred = model.predict(X_test)"
   ]
  },
  {
   "cell_type": "code",
   "execution_count": 37,
   "metadata": {},
   "outputs": [],
   "source": [
    "neural_cm = metrics.confusion_matrix(y_test, neural_y_pred.round(), normalize=None)"
   ]
  },
  {
   "cell_type": "code",
   "execution_count": 38,
   "metadata": {},
   "outputs": [
    {
     "data": {
      "image/png": "[encoded data removed]",
      "text/plain": [
       "<Figure size 432x288 with 1 Axes>"
      ]
     },
     "metadata": {
      "needs_background": "light"
     },
     "output_type": "display_data"
    }
   ],
   "source": [
    "cm_neural = pd.DataFrame(neural_cm, index=['not_fraud', 'fraud'], columns=['not_fraud', 'fraud'])\n",
    "\n",
    "sns.heatmap(cm_neural, annot=True, cbar=None, cmap=\"Blues\", fmt = 'g')\n",
    "plt.title(\"Confusion Matrix Neural\"), plt.tight_layout()\n",
    "plt.ylabel(\"True Class\"), plt.xlabel(\"Predicted Class\")\n",
    "plt.show()"
   ]
  },
  {
   "cell_type": "code",
   "execution_count": 39,
   "metadata": {},
   "outputs": [
    {
     "name": "stdout",
     "output_type": "stream",
     "text": [
      "Accuracy Neural: 88.88888888888889\n",
      "Precision Neural: 100.0\n",
      "Recall Neural: 67.46031746031747\n",
      "F1 Score Neural: 80.56872037914692\n"
     ]
    }
   ],
   "source": [
    "print(\"Accuracy Neural:\",metrics.accuracy_score(y_test, neural_y_pred.round())*100)\n",
    "print(\"Precision Neural:\",metrics.precision_score(y_test, neural_y_pred.round())*100)\n",
    "print(\"Recall Neural:\",metrics.recall_score(y_test, neural_y_pred.round())*100)\n",
    "print(\"F1 Score Neural:\",metrics.f1_score(y_test, neural_y_pred.round())*100)"
   ]
  },
  {
   "cell_type": "code",
   "execution_count": 40,
   "metadata": {},
   "outputs": [
    {
     "name": "stderr",
     "output_type": "stream",
     "text": [
      "WARNING: Logging before flag parsing goes to stderr.\n",
      "W0412 20:05:36.894040  4568 deprecation.py:323] From <ipython-input-40-b57c52082745>:1: Sequential.predict_proba (from tensorflow.python.keras.engine.sequential) is deprecated and will be removed after 2021-01-01.\n",
      "Instructions for updating:\n",
      "Please use `model.predict()` instead.\n"
     ]
    },
    {
     "name": "stdout",
     "output_type": "stream",
     "text": [
      "AUC Logistic Regression : 92.968188647201\n"
     ]
    },
    {
     "data": {
      "image/png": "[encoded data removed]",
      "text/plain": [
       "<Figure size 432x288 with 1 Axes>"
      ]
     },
     "metadata": {
      "needs_background": "light"
     },
     "output_type": "display_data"
    }
   ],
   "source": [
    "y_pred_Neural_proba = model.predict_proba(X_test)\n",
    "Neural_fpr_logit, Neural_tpr_logit, _ = metrics.roc_curve(y_test,  y_pred_Neural_proba)\n",
    "Neural_auc_logit = metrics.roc_auc_score(y_test, y_pred_Neural_proba)\n",
    "print(\"AUC Logistic Regression :\", Neural_auc_logit*100)\n",
    "\n",
    "#ROC\n",
    "plt.plot(Neural_fpr_logit,Neural_tpr_logit, label=\"Neural Network, auc={:.3f})\".format(Neural_auc_logit))\n",
    "plt.plot([0, 1], [0, 1], 'k--')\n",
    "plt.xlabel('False positive rate')\n",
    "plt.ylabel('True positive rate')\n",
    "plt.title('Logistic Regression ROC curve')\n",
    "plt.legend(loc=4)\n",
    "plt.show()"
   ]
  },
  {
   "cell_type": "markdown",
   "metadata": {},
   "source": [
    "# SVM Classifier for Predicting Credit Risk"
   ]
  },
  {
   "cell_type": "code",
   "execution_count": 49,
   "metadata": {},
   "outputs": [
    {
     "name": "stderr",
     "output_type": "stream",
     "text": [
      "C:\\Users\\Lenovo\\anaconda3\\lib\\site-packages\\sklearn\\utils\\validation.py:63: DataConversionWarning: A column-vector y was passed when a 1d array was expected. Please change the shape of y to (n_samples, ), for example using ravel().\n",
      "  return f(*args, **kwargs)\n"
     ]
    },
    {
     "data": {
      "text/plain": [
       "SVC(kernel='linear', probability=True, random_state=0)"
      ]
     },
     "execution_count": 49,
     "metadata": {},
     "output_type": "execute_result"
    }
   ],
   "source": [
    "from sklearn.svm import SVC\n",
    "sv_classifier = SVC(kernel = 'linear', random_state=0, probability=True)\n",
    "sv_classifier.fit(X_under, test)"
   ]
  },
  {
   "cell_type": "code",
   "execution_count": 50,
   "metadata": {},
   "outputs": [],
   "source": [
    "sv_pred = sv_classifier.predict(X_test)"
   ]
  },
  {
   "cell_type": "code",
   "execution_count": 51,
   "metadata": {},
   "outputs": [
    {
     "name": "stdout",
     "output_type": "stream",
     "text": [
      "[[243   0]\n",
      " [ 78  48]]\n"
     ]
    }
   ],
   "source": [
    "from sklearn import metrics \n",
    "\n",
    "sv_cm = metrics.confusion_matrix(y_test, sv_pred)\n",
    "print(sv_cm)"
   ]
  },
  {
   "cell_type": "code",
   "execution_count": 52,
   "metadata": {},
   "outputs": [
    {
     "name": "stdout",
     "output_type": "stream",
     "text": [
      "Log Classification Report               precision    recall  f1-score   support\n",
      "\n",
      "           0       0.76      1.00      0.86       243\n",
      "           1       1.00      0.38      0.55       126\n",
      "\n",
      "    accuracy                           0.79       369\n",
      "   macro avg       0.88      0.69      0.71       369\n",
      "weighted avg       0.84      0.79      0.76       369\n",
      "\n"
     ]
    }
   ],
   "source": [
    "sv_classification_report = metrics.classification_report(y_test, sv_pred)\n",
    "print('Log Classification Report',sv_classification_report)"
   ]
  },
  {
   "cell_type": "code",
   "execution_count": 53,
   "metadata": {},
   "outputs": [
    {
     "name": "stdout",
     "output_type": "stream",
     "text": [
      "Accuracy SVM: 78.86178861788618\n",
      "Precision SVM: 100.0\n",
      "Recall SVM: 38.095238095238095\n",
      "F1 Score SVM: 55.172413793103445\n"
     ]
    }
   ],
   "source": [
    "print(\"Accuracy SVM:\",metrics.accuracy_score(y_test, sv_pred)*100)\n",
    "print(\"Precision SVM:\",metrics.precision_score(y_test, sv_pred)*100)\n",
    "print(\"Recall SVM:\",metrics.recall_score(y_test, sv_pred)*100)\n",
    "print(\"F1 Score SVM:\",metrics.f1_score(y_test, sv_pred)*100)"
   ]
  },
  {
   "cell_type": "code",
   "execution_count": 54,
   "metadata": {},
   "outputs": [],
   "source": [
    "matrix_sv = metrics.confusion_matrix(y_test, sv_pred)\n",
    "cm_sv = pd.DataFrame(matrix_sv, index=['not_fraud', 'fraud'], columns=['not_fraud', 'fraud'])"
   ]
  },
  {
   "cell_type": "code",
   "execution_count": 55,
   "metadata": {},
   "outputs": [
    {
     "data": {
      "image/png": "[encoded data removed]",
      "text/plain": [
       "<Figure size 432x288 with 1 Axes>"
      ]
     },
     "metadata": {
      "needs_background": "light"
     },
     "output_type": "display_data"
    }
   ],
   "source": [
    "sns.heatmap(cm_sv, annot=True, cbar=None, cmap=\"Blues\", fmt = 'g')\n",
    "plt.title(\"Confusion Matrix Support Vector\"), plt.tight_layout()\n",
    "plt.ylabel(\"True Class\"), plt.xlabel(\"Predicted Class\")\n",
    "plt.show()"
   ]
  },
  {
   "cell_type": "code",
   "execution_count": 57,
   "metadata": {},
   "outputs": [
    {
     "name": "stdout",
     "output_type": "stream",
     "text": [
      "AUC Logistic Regression : 94.20275654843556\n"
     ]
    }
   ],
   "source": [
    "y_pred_sv_proba = sv_classifier.predict_proba(X_test)[::,1]\n",
    "sv_fpr_logit, sv_tpr_logit, _ = metrics.roc_curve(y_test,  y_pred_sv_proba)\n",
    "log_auc_sv = metrics.roc_auc_score(y_test, y_pred_sv_proba)\n",
    "print(\"AUC Logistic Regression :\", log_auc_sv*100)"
   ]
  },
  {
   "cell_type": "code",
   "execution_count": 58,
   "metadata": {},
   "outputs": [
    {
     "data": {
      "image/png": "[encoded data removed]",
      "text/plain": [
       "<Figure size 432x288 with 1 Axes>"
      ]
     },
     "metadata": {
      "needs_background": "light"
     },
     "output_type": "display_data"
    }
   ],
   "source": [
    "plt.plot(sv_fpr_logit,sv_tpr_logit, label=\"Neural Network, auc={:.3f})\".format(Neural_auc_logit))\n",
    "plt.plot([0, 1], [0, 1], 'k--')\n",
    "plt.xlabel('False positive rate')\n",
    "plt.ylabel('True positive rate')\n",
    "plt.title('Logistic Regression ROC curve')\n",
    "plt.legend(loc=4)\n",
    "plt.show()"
   ]
  },
  {
   "cell_type": "code",
   "execution_count": null,
   "metadata": {},
   "outputs": [],
   "source": []
  }
 ],
 "metadata": {
  "kernelspec": {
   "display_name": "Python 3",
   "language": "python",
   "name": "python3"
  },
  "language_info": {
   "codemirror_mode": {
    "name": "ipython",
    "version": 3
   },
   "file_extension": ".py",
   "mimetype": "text/x-python",
   "name": "python",
   "nbconvert_exporter": "python",
   "pygments_lexer": "ipython3",
   "version": "3.7.6"
  }
 },
 "nbformat": 4,
 "nbformat_minor": 4
}
